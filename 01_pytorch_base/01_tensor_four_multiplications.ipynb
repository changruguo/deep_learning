{
 "cells": [
  {
   "cell_type": "markdown",
   "source": [
    "## torh.tensor 有四种常见的乘法\n",
    "1、*\n",
    "2、torch.mul\n",
    "3、torch.mm\n",
    "4、torch.matmul"
   ],
   "metadata": {
    "collapsed": false
   }
  },
  {
   "cell_type": "code",
   "execution_count": 3,
   "outputs": [],
   "source": [
    "import torch\n",
    "\n",
    "from IPython.core.interactiveshell import InteractiveShell\n",
    "InteractiveShell.ast_node_interactivity = \"all\""
   ],
   "metadata": {
    "collapsed": false
   }
  },
  {
   "cell_type": "markdown",
   "source": [
    "## 1. 点乘（*）\n",
    "a与b 做 * 乘法，原则实如果 a 与 b 的 size 不同，则以某种方式将 a 或 b 进行复制，使得复制后的 a 与 b 的 size 相同，然后再将 a 和 b 做 element-wise 的乘法（对应位相乘）"
   ],
   "metadata": {
    "collapsed": false
   }
  },
  {
   "cell_type": "markdown",
   "source": [
    "### 1.1 * 标量"
   ],
   "metadata": {
    "collapsed": false
   }
  },
  {
   "cell_type": "code",
   "execution_count": 4,
   "outputs": [
    {
     "name": "stdout",
     "output_type": "stream",
     "text": [
      "tensor([[1., 1., 1., 1.],\n",
      "        [1., 1., 1., 1.],\n",
      "        [1., 1., 1., 1.]])\n",
      "tensor([[2., 2., 2., 2.],\n",
      "        [2., 2., 2., 2.],\n",
      "        [2., 2., 2., 2.]])\n"
     ]
    }
   ],
   "source": [
    "a = torch.ones(3,4)\n",
    "print(a)\n",
    "\n",
    "print(a * 2)\n"
   ],
   "metadata": {
    "collapsed": false
   }
  },
  {
   "cell_type": "markdown",
   "source": [
    "### 1.2 * 一维向量"
   ],
   "metadata": {
    "collapsed": false
   }
  },
  {
   "cell_type": "code",
   "execution_count": 5,
   "outputs": [
    {
     "name": "stdout",
     "output_type": "stream",
     "text": [
      "tensor([[1., 1., 1., 1.],\n",
      "        [1., 1., 1., 1.],\n",
      "        [1., 1., 1., 1.]])\n",
      "tensor([1., 2., 3., 4.])\n",
      "tensor([[1., 2., 3., 4.],\n",
      "        [1., 2., 3., 4.],\n",
      "        [1., 2., 3., 4.]])\n",
      "----------------------------------------------------------------\n",
      "tensor([[1.],\n",
      "        [2.],\n",
      "        [3.]])\n",
      "tensor([[1., 1., 1., 1.],\n",
      "        [2., 2., 2., 2.],\n",
      "        [3., 3., 3., 3.]])\n"
     ]
    }
   ],
   "source": [
    " # 2.1 tensor 与行向量做 *, 每列乘以行向量对应列的值（相当于把行向量的行复制，成为与 tensor 维度相同的 Tensor）\n",
    "a = torch.ones(3,4)\n",
    "print(a)\n",
    "\n",
    "b  = torch.Tensor([1,2,3,4])\n",
    "print(b)\n",
    "\n",
    "print(a * b)\n",
    "\n",
    "print('----------------------------------------------------------------')\n",
    "\n",
    "\n",
    "# 2.2 tensor与列向量做*乘法的结果是每行乘以列向量对应行的值（相当于把列向量的列复制，成为与维度相同的Tensor）. 注意此时要求Tensor的行数与列向量的行数相等\n",
    "c = torch.Tensor([1,2,3]).reshape(3,1)\n",
    "print(c)\n",
    "\n",
    "print(a*c)\n",
    "\n"
   ],
   "metadata": {
    "collapsed": false
   }
  },
  {
   "cell_type": "markdown",
   "source": [
    "### 1.3 * 矩阵"
   ],
   "metadata": {
    "collapsed": false
   }
  },
  {
   "cell_type": "code",
   "execution_count": 6,
   "outputs": [
    {
     "name": "stdout",
     "output_type": "stream",
     "text": [
      "tensor([[1, 4],\n",
      "        [4, 9]])\n"
     ]
    }
   ],
   "source": [
    "# 如果两个二维矩阵 A 与 B 做点积 A*B，则要求 A 与 B 的维度完全相同，即 A 的行数 = B 的行数，A 的列数 = B 的列数\n",
    "a = torch.tensor([[1, 2], [2, 3]])\n",
    "print(a * a)"
   ],
   "metadata": {
    "collapsed": false
   }
  },
  {
   "cell_type": "markdown",
   "source": [
    "## torch.mul 与 * 的用法完全相同"
   ],
   "metadata": {
    "collapsed": false
   }
  },
  {
   "cell_type": "code",
   "execution_count": 7,
   "outputs": [
    {
     "data": {
      "text/plain": "tensor([[1, 4],\n        [4, 9]])"
     },
     "execution_count": 7,
     "metadata": {},
     "output_type": "execute_result"
    }
   ],
   "source": [
    "a = torch.tensor([[1, 2], [2, 3]])\n",
    "torch.mul(a,a)"
   ],
   "metadata": {
    "collapsed": false
   }
  },
  {
   "cell_type": "markdown",
   "source": [
    "## torch.mm\n",
    "数学里的矩阵乘法，要求两个 Tensor 的维度满足矩阵乘法的要求"
   ],
   "metadata": {
    "collapsed": false
   }
  },
  {
   "cell_type": "code",
   "execution_count": 8,
   "outputs": [
    {
     "data": {
      "text/plain": "tensor([[4., 4.],\n        [4., 4.],\n        [4., 4.]])"
     },
     "execution_count": 8,
     "metadata": {},
     "output_type": "execute_result"
    }
   ],
   "source": [
    "a = torch.ones(3,4)\n",
    "b = torch.ones(4,2)\n",
    "torch.mm(a, b)"
   ],
   "metadata": {
    "collapsed": false
   }
  },
  {
   "cell_type": "markdown",
   "source": [
    "## torch.matmul\n",
    "torch.mm 的 broadcast 版本"
   ],
   "metadata": {
    "collapsed": false
   }
  },
  {
   "cell_type": "code",
   "execution_count": 9,
   "outputs": [
    {
     "data": {
      "text/plain": "tensor([[[4., 4.],\n         [4., 4.],\n         [4., 4.]],\n\n        [[4., 4.],\n         [4., 4.],\n         [4., 4.]],\n\n        [[4., 4.],\n         [4., 4.],\n         [4., 4.]],\n\n        [[4., 4.],\n         [4., 4.],\n         [4., 4.]],\n\n        [[4., 4.],\n         [4., 4.],\n         [4., 4.]]])"
     },
     "execution_count": 9,
     "metadata": {},
     "output_type": "execute_result"
    }
   ],
   "source": [
    "a = torch.ones(3,4)\n",
    "b = torch.ones(5,4,2)\n",
    "torch.matmul(a, b)\n"
   ],
   "metadata": {
    "collapsed": false
   }
  }
 ],
 "metadata": {
  "kernelspec": {
   "display_name": "Python 3",
   "language": "python",
   "name": "python3"
  },
  "language_info": {
   "codemirror_mode": {
    "name": "ipython",
    "version": 2
   },
   "file_extension": ".py",
   "mimetype": "text/x-python",
   "name": "python",
   "nbconvert_exporter": "python",
   "pygments_lexer": "ipython2",
   "version": "2.7.6"
  }
 },
 "nbformat": 4,
 "nbformat_minor": 0
}
