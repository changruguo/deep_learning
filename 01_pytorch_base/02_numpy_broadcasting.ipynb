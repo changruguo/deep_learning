{
 "cells": [
  {
   "cell_type": "markdown",
   "source": [
    "## describes of the numpy broadcasting\n",
    "1、the term broadcasting describes how Numpy treats arrays with different shapes during arithmetic operations.\n",
    "2、subject to certain constraints, the smaller array is \"broadcast\" across the larger array so that they have compatible shapes.\n",
    "3、Broadcasting provides a mean of vectorizing array operations so that looping occurs in C instead of Python.\n",
    "4、it does this without making needless copies of the data and usually leads to efficiency algorithm implementations.\n",
    "5、there are,however, cases where broadcasting is a bad idea because it leads to inefficient use of memory that slows computation.\n"
   ],
   "metadata": {
    "collapsed": false
   }
  },
  {
   "cell_type": "markdown",
   "source": [
    "1、Numpy operations are usually done on pairs of arrays on an element-by-element basis.\n",
    "2、In the simplest case,two arrays must have exactly the same shape, as in the following example:"
   ],
   "metadata": {
    "collapsed": false
   }
  },
  {
   "cell_type": "code",
   "execution_count": 1,
   "outputs": [
    {
     "data": {
      "text/plain": "array([2., 4., 6.])"
     },
     "execution_count": 1,
     "metadata": {},
     "output_type": "execute_result"
    }
   ],
   "source": [
    "import numpy as np\n",
    "a = np.array([1.0, 2.0, 3.0])\n",
    "b = np.array([2.0, 2.0, 2.0])\n",
    "a*b"
   ],
   "metadata": {
    "collapsed": false
   }
  },
  {
   "cell_type": "markdown",
   "source": [
    "Numpy broadcasting rule relaxed this constraint when the arrays' shape meet certain constraints.\n",
    "The simplest broadcasting example occurs when an array and a scalar value combined in an operations."
   ],
   "metadata": {
    "collapsed": false
   }
  },
  {
   "cell_type": "code",
   "execution_count": 2,
   "outputs": [
    {
     "data": {
      "text/plain": "array([2., 4., 6.])"
     },
     "execution_count": 2,
     "metadata": {},
     "output_type": "execute_result"
    }
   ],
   "source": [
    "a = np.array([1.0, 2.0, 3.0])\n",
    "b = 2.0\n",
    "a*b\n"
   ],
   "metadata": {
    "collapsed": false
   }
  },
  {
   "cell_type": "markdown",
   "source": [
    "1、the result is equivalent to the previous example where b was an array\n",
    "2、we can think of the scalar b being stretched during operation into an array with the same shape as a.\n",
    "3、the new element in b, as shown in Figure, are simply copies of the original scalar\n",
    "4、the stretching analogy is only conceptual.\n",
    "5、Numpy is smart enough to use the original scalar value without actually copies so that broadcasting operations are as memory and computationally efficient as possible.\n",
    "![](image/img.png)\n",
    "the code in the second example is more efficient than that in the first because broadcasting moves less memory around during the multiplication."
   ],
   "metadata": {
    "collapsed": false
   }
  },
  {
   "cell_type": "markdown",
   "source": [
    "## General Broadcasting Rules\n",
    "1、when operating on two arrays, Numpy compares their shapes element-wise.\n",
    "2、it starts with the trailing(i.e. rightmost) dimensions and works its way left. Two dimensions are compatible when：\n",
    "* they are equal, or\n",
    "* one of them is 1\n",
    "\n",
    "3、if these conditions are met,a 'ValueError: operands could not be broadcast together' exception is thrown, indicating that the array have incompatible shapes.\n",
    "4、the size of the resulting array is the size that is not 1 along each axis of the inputs.\n",
    "\n",
    "5、arrays do not need to have the same number of dimensions.\n",
    "\n",
    "6、For example, if you have a 256x256x3 array of RGB values, and you want to scale each color in the image by a different value,you can multiply the image by a one-dimensional array with 3 values. Lining up the sizes of the trailing axes of these arrays according to the broadcast rules, shows that they are compatible.\n",
    "![](image/img_1.png)\n",
    "\n",
    "7、when either of the dimensions compared is one, the other is used.In other words,dimensions with size 1 are stretched or 'copied' to match the other.\n",
    "8、in the following example, both A and B always have axes with length 1 that are expanded to larger size during the broadcast operation.\n",
    "![](image/img_2.png)"
   ],
   "metadata": {
    "collapsed": false
   }
  },
  {
   "cell_type": "markdown",
   "source": [
    "## Broadcastable Arrays\n",
    "1、a set of arrays is called 'broadcastable' to the same shape if the above rules produce a valid result.\n",
    "\n",
    "2、For example, if a.shape is (5,1), b.shape is (1,6), c.shape is (6,) and d.shape is () so that d is a scalar, then a, b, c, and d are all broadcastable to dimension (5,6),and：\n",
    "* a acts like a(5,6) where a[:,0] is broadcast to the other columns.\n",
    "* b acts like a(5,6) where b[0,:] is broadcast to the other rows.\n",
    "* c acts like a (1,6) array and therefore like a (5,6) array where c[:] is broadcast to every row, and finally\n",
    "* d acts like a (5,6) array where the single value is repeated.\n",
    "![](image/img_3.png)\n",
    "\n",
    "3、an example of broadcasting when a 1-d array is added to a 2-d array:\n",
    "![](image/img_4.png)\n",
    "\n",
    "4、Broadcasting provides a convenient way of taking the outer product (or any other outer operation) of two arrays. The following example shows an outer addition operation of two 1-d arrays\n",
    "![](image/img_5.png)\n"
   ],
   "metadata": {
    "collapsed": false
   }
  },
  {
   "cell_type": "markdown",
   "source": [
    "\n"
   ],
   "metadata": {
    "collapsed": false
   }
  }
 ],
 "metadata": {
  "kernelspec": {
   "display_name": "Python 3",
   "language": "python",
   "name": "python3"
  },
  "language_info": {
   "codemirror_mode": {
    "name": "ipython",
    "version": 2
   },
   "file_extension": ".py",
   "mimetype": "text/x-python",
   "name": "python",
   "nbconvert_exporter": "python",
   "pygments_lexer": "ipython2",
   "version": "2.7.6"
  }
 },
 "nbformat": 4,
 "nbformat_minor": 0
}
